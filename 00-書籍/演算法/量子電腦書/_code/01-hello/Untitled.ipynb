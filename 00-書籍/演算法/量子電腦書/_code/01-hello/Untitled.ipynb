{
 "cells": [
  {
   "cell_type": "code",
   "execution_count": 1,
   "id": "38aa5141-2bb7-4fef-aea4-2e4287c705d7",
   "metadata": {},
   "outputs": [],
   "source": [
    "import numpy as np\n",
    "from qiskit import QuantumCircuit\n"
   ]
  },
  {
   "cell_type": "code",
   "execution_count": 4,
   "id": "051f3198-13cc-4d52-9b14-1a6fead69dce",
   "metadata": {},
   "outputs": [],
   "source": [
    "qc_example = QuantumCircuit(3)\n"
   ]
  },
  {
   "cell_type": "code",
   "execution_count": 5,
   "id": "0eefd255-debb-4069-a748-b1d4a1811eb9",
   "metadata": {},
   "outputs": [
    {
     "data": {
      "text/plain": [
       "<qiskit.circuit.instructionset.InstructionSet at 0x1163765c0>"
      ]
     },
     "execution_count": 5,
     "metadata": {},
     "output_type": "execute_result"
    }
   ],
   "source": [
    "qc_example.h(0)          # generate superpostion"
   ]
  },
  {
   "cell_type": "code",
   "execution_count": 6,
   "id": "4405a2d0-43d8-4004-9f6a-c065fd0f06ac",
   "metadata": {},
   "outputs": [
    {
     "data": {
      "text/plain": [
       "<qiskit.circuit.instructionset.InstructionSet at 0x1163765f0>"
      ]
     },
     "execution_count": 6,
     "metadata": {},
     "output_type": "execute_result"
    }
   ],
   "source": [
    "qc_example.p(np.pi/2,0)  # add quantum phase\n"
   ]
  },
  {
   "cell_type": "code",
   "execution_count": 7,
   "id": "4dcdd51f-d89d-41de-9cc3-8e12840cc147",
   "metadata": {},
   "outputs": [
    {
     "data": {
      "text/plain": [
       "<qiskit.circuit.instructionset.InstructionSet at 0x1163766e0>"
      ]
     },
     "execution_count": 7,
     "metadata": {},
     "output_type": "execute_result"
    }
   ],
   "source": [
    "qc_example.cx(0,1)       # 0th-qubit-Controlled-NOT gate on 1st qubit"
   ]
  },
  {
   "cell_type": "code",
   "execution_count": 8,
   "id": "387ae075-0f5c-45f1-b970-baab105c6d68",
   "metadata": {},
   "outputs": [
    {
     "data": {
      "text/plain": [
       "<qiskit.circuit.instructionset.InstructionSet at 0x116375960>"
      ]
     },
     "execution_count": 8,
     "metadata": {},
     "output_type": "execute_result"
    }
   ],
   "source": [
    "qc_example.cx(0,2)       # 0th-qubit-Controlled-NOT gate on 2nd qubit"
   ]
  },
  {
   "cell_type": "code",
   "execution_count": null,
   "id": "5759f11a-ed2b-4a1b-8f3b-900e8b28bb23",
   "metadata": {},
   "outputs": [],
   "source": []
  }
 ],
 "metadata": {
  "kernelspec": {
   "display_name": "Python 3 (ipykernel)",
   "language": "python",
   "name": "python3"
  },
  "language_info": {
   "codemirror_mode": {
    "name": "ipython",
    "version": 3
   },
   "file_extension": ".py",
   "mimetype": "text/x-python",
   "name": "python",
   "nbconvert_exporter": "python",
   "pygments_lexer": "ipython3",
   "version": "3.13.1"
  }
 },
 "nbformat": 4,
 "nbformat_minor": 5
}
