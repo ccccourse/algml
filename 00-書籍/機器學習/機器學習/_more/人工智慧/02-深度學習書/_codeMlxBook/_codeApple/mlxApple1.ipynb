{
 "cells": [
  {
   "cell_type": "code",
   "execution_count": 1,
   "id": "ccf5366b-41fd-41f1-9784-69964fdc0fef",
   "metadata": {},
   "outputs": [
    {
     "data": {
      "text/plain": [
       "(4,)"
      ]
     },
     "execution_count": 1,
     "metadata": {},
     "output_type": "execute_result"
    }
   ],
   "source": [
    "import mlx.core as mx\n",
    "a = mx.array([1, 2, 3, 4])\n",
    "a.shape"
   ]
  },
  {
   "cell_type": "code",
   "execution_count": 2,
   "id": "a3968086-700e-4f6c-9a83-6d72e8716c4e",
   "metadata": {},
   "outputs": [
    {
     "data": {
      "text/plain": [
       "mlx.core.int32"
      ]
     },
     "execution_count": 2,
     "metadata": {},
     "output_type": "execute_result"
    }
   ],
   "source": [
    "a.dtype"
   ]
  },
  {
   "cell_type": "code",
   "execution_count": 3,
   "id": "49207ce4-76cb-4946-b237-7c16e087564e",
   "metadata": {},
   "outputs": [
    {
     "data": {
      "text/plain": [
       "mlx.core.float32"
      ]
     },
     "execution_count": 3,
     "metadata": {},
     "output_type": "execute_result"
    }
   ],
   "source": [
    "b = mx.array([1.0, 2.0, 3.0, 4.0])\n",
    "b.dtype"
   ]
  },
  {
   "cell_type": "code",
   "execution_count": 4,
   "id": "1094496c-8bf8-47c2-98bf-344c5a4fffcf",
   "metadata": {},
   "outputs": [
    {
     "name": "stdout",
     "output_type": "stream",
     "text": [
      "array([2, 4, 6, 8], dtype=float32)\n"
     ]
    }
   ],
   "source": [
    "c = a + b    # c not yet evaluated\n",
    "mx.eval(c)  # evaluates c\n",
    "c = a + b\n",
    "print(c)\n"
   ]
  },
  {
   "cell_type": "code",
   "execution_count": 5,
   "id": "382c53f4-97af-4cfc-a93c-c6d314dc72d0",
   "metadata": {},
   "outputs": [
    {
     "data": {
      "text/plain": [
       "array([2., 4., 6., 8.], dtype=float32)"
      ]
     },
     "execution_count": 5,
     "metadata": {},
     "output_type": "execute_result"
    }
   ],
   "source": [
    "c = a + b\n",
    "import numpy as np\n",
    "np.array(c)   # Also evaluates c"
   ]
  },
  {
   "cell_type": "code",
   "execution_count": 6,
   "id": "1268d4d8-be5c-430d-a7da-4e2f2e953ba6",
   "metadata": {},
   "outputs": [
    {
     "data": {
      "text/plain": [
       "array(0, dtype=float32)"
      ]
     },
     "execution_count": 6,
     "metadata": {},
     "output_type": "execute_result"
    }
   ],
   "source": [
    "x = mx.array(0.0)\n",
    "mx.sin(x)"
   ]
  },
  {
   "cell_type": "code",
   "execution_count": 7,
   "id": "31393197-b878-45d6-acd6-fa7172d3a70f",
   "metadata": {},
   "outputs": [
    {
     "data": {
      "text/plain": [
       "array(1, dtype=float32)"
      ]
     },
     "execution_count": 7,
     "metadata": {},
     "output_type": "execute_result"
    }
   ],
   "source": [
    "mx.grad(mx.sin)(x)"
   ]
  },
  {
   "cell_type": "code",
   "execution_count": 8,
   "id": "9de766e9-45ba-4bff-90c5-681089e23e73",
   "metadata": {},
   "outputs": [
    {
     "data": {
      "text/plain": [
       "array(-0, dtype=float32)"
      ]
     },
     "execution_count": 8,
     "metadata": {},
     "output_type": "execute_result"
    }
   ],
   "source": [
    "mx.grad(mx.grad(mx.sin))(x)"
   ]
  },
  {
   "cell_type": "code",
   "execution_count": 12,
   "id": "e5920357-7db4-4e51-b890-37631a6f124e",
   "metadata": {},
   "outputs": [],
   "source": [
    "def fun(x):\n",
    "    a = mx.sin(x)\n",
    "    b = mx.exp(a)\n",
    "    return a, b\n",
    "\n",
    "y, _ = fun(x)\n"
   ]
  },
  {
   "cell_type": "code",
   "execution_count": null,
   "id": "543aac45-9074-4b8a-bd27-e399ce0b831e",
   "metadata": {},
   "outputs": [],
   "source": []
  }
 ],
 "metadata": {
  "kernelspec": {
   "display_name": "Python 3 (ipykernel)",
   "language": "python",
   "name": "python3"
  },
  "language_info": {
   "codemirror_mode": {
    "name": "ipython",
    "version": 3
   },
   "file_extension": ".py",
   "mimetype": "text/x-python",
   "name": "python",
   "nbconvert_exporter": "python",
   "pygments_lexer": "ipython3",
   "version": "3.12.2"
  }
 },
 "nbformat": 4,
 "nbformat_minor": 5
}
